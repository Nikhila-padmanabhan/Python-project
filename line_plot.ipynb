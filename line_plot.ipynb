{
  "nbformat": 4,
  "nbformat_minor": 0,
  "metadata": {
    "colab": {
      "name": "line plot.ipynb",
      "provenance": [],
      "collapsed_sections": [],
      "include_colab_link": true
    },
    "kernelspec": {
      "name": "python3",
      "display_name": "Python 3"
    },
    "accelerator": "GPU"
  },
  "cells": [
    {
      "cell_type": "markdown",
      "metadata": {
        "id": "view-in-github",
        "colab_type": "text"
      },
      "source": [
        "<a href=\"https://colab.research.google.com/github/Nikhila-padmanabhan/Python-project/blob/master/line_plot.ipynb\" target=\"_parent\"><img src=\"https://colab.research.google.com/assets/colab-badge.svg\" alt=\"Open In Colab\"/></a>"
      ]
    },
    {
      "cell_type": "code",
      "metadata": {
        "id": "V-VbHf5HSPnp",
        "colab_type": "code",
        "colab": {}
      },
      "source": [
        "import numpy as np\n",
        "import seaborn as sns\n",
        "import matplotlib.pyplot as plt"
      ],
      "execution_count": 0,
      "outputs": []
    },
    {
      "cell_type": "code",
      "metadata": {
        "id": "r6txWTTdUKB-",
        "colab_type": "code",
        "colab": {
          "base_uri": "https://localhost:8080/",
          "height": 254
        },
        "outputId": "fc773d91-e036-4693-bd41-53f9041bf297"
      },
      "source": [
        "a = np.linspace(0,500)\n",
        "a"
      ],
      "execution_count": 3,
      "outputs": [
        {
          "output_type": "execute_result",
          "data": {
            "text/plain": [
              "array([  0.        ,  10.20408163,  20.40816327,  30.6122449 ,\n",
              "        40.81632653,  51.02040816,  61.2244898 ,  71.42857143,\n",
              "        81.63265306,  91.83673469, 102.04081633, 112.24489796,\n",
              "       122.44897959, 132.65306122, 142.85714286, 153.06122449,\n",
              "       163.26530612, 173.46938776, 183.67346939, 193.87755102,\n",
              "       204.08163265, 214.28571429, 224.48979592, 234.69387755,\n",
              "       244.89795918, 255.10204082, 265.30612245, 275.51020408,\n",
              "       285.71428571, 295.91836735, 306.12244898, 316.32653061,\n",
              "       326.53061224, 336.73469388, 346.93877551, 357.14285714,\n",
              "       367.34693878, 377.55102041, 387.75510204, 397.95918367,\n",
              "       408.16326531, 418.36734694, 428.57142857, 438.7755102 ,\n",
              "       448.97959184, 459.18367347, 469.3877551 , 479.59183673,\n",
              "       489.79591837, 500.        ])"
            ]
          },
          "metadata": {
            "tags": []
          },
          "execution_count": 3
        }
      ]
    },
    {
      "cell_type": "code",
      "metadata": {
        "id": "roICBaSxUXiZ",
        "colab_type": "code",
        "colab": {
          "base_uri": "https://localhost:8080/",
          "height": 283
        },
        "outputId": "8e561358-c5de-484a-9543-718515c67619"
      },
      "source": [
        "plt.plot(a)"
      ],
      "execution_count": 4,
      "outputs": [
        {
          "output_type": "execute_result",
          "data": {
            "text/plain": [
              "[<matplotlib.lines.Line2D at 0x7fec06869278>]"
            ]
          },
          "metadata": {
            "tags": []
          },
          "execution_count": 4
        },
        {
          "output_type": "display_data",
          "data": {
            "image/png": "[encoded data removed]",
            "text/plain": [
              "<Figure size 432x288 with 1 Axes>"
            ]
          },
          "metadata": {
            "tags": []
          }
        }
      ]
    },
    {
      "cell_type": "code",
      "metadata": {
        "id": "XH9aKj3uUZ5h",
        "colab_type": "code",
        "colab": {}
      },
      "source": [
        ""
      ],
      "execution_count": 0,
      "outputs": []
    }
  ]
}